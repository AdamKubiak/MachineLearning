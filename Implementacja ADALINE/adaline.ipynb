{
 "cells": [
  {
   "cell_type": "code",
   "execution_count": 23,
   "metadata": {},
   "outputs": [],
   "source": [
    "import numpy as np\n",
    "import pandas as pd\n",
    "import matplotlib.pyplot as plt\n",
    "from matplotlib.colors import ListedColormap\n",
    "\n",
    "class AdalineGD():\n",
    "    \"\"\"Klasyfikator — ADAptacyjny LIniowy NEuron.\n",
    "\n",
    "    Parametry\n",
    "    ------------\n",
    "    eta : zmiennoprzecinkowy\n",
    "        Współczynnik uczenia (w zakresie pomiędzy 0.0 i 1.0)\n",
    "    n_iter : liczba całkowita\n",
    "        Liczba przebiegów po zestawie uczącym.\n",
    "    random_state : liczba całkowita\n",
    "      Ziarno generatora liczb losowych służący do losowego\n",
    "      inicjowania wag.\n",
    "\n",
    "\n",
    "    Atrybuty\n",
    "    -----------\n",
    "    w_ : jednowymiarowa tablica\n",
    "        Wagi po dopasowaniu.\n",
    "    cost_ : lista\n",
    "      Suma kwadratów błędów (wartość funkcji kosztu) w każdej epoce.\n",
    "\n",
    "    \"\"\"\n",
    "    def __init__(self, eta=0.01, n_iter=50, random_state=1):\n",
    "        self.eta = eta\n",
    "        self.n_iter = n_iter\n",
    "        self.random_state = random_state\n",
    "\n",
    "    def fit(self, X, y):\n",
    "        \"\"\" Trenowanie za pomocą danych uczących.\n",
    "\n",
    "        Parametry\n",
    "        ----------\n",
    "        X : {tablicopodobny}, wymiary = [n_próbek, n_cech]\n",
    "            Wektory uczenia,\n",
    "            gdzie n_próbek oznacza liczbę próbek, a\n",
    "            n_cech – liczbę cech.\n",
    "        y : tablicopodobny, wymiary = [n_próbek]\n",
    "            Wartości docelowe.\n",
    "\n",
    "        Zwraca\n",
    "        -------\n",
    "        self : obiekt\n",
    "\n",
    "        \"\"\"\n",
    "        rgen = np.random.RandomState(self.random_state)\n",
    "        self.w_ = rgen.normal(loc=0.0, scale=0.01, size=1 + X.shape[1])\n",
    "        self.cost_ = []\n",
    "\n",
    "        for i in range(self.n_iter):\n",
    "            net_input = self.net_input(X)\n",
    "            \n",
    "            # Zwróć uwagę, że metoda \"activation\" nie ma wpływu na działanie kodu,\n",
    "            # gdyż jest to zwykła funkcja tożsamościowa. Moglibyśmy zamiast tego napisać\n",
    "            # bezpośrednio po prostu `output = self.net_input(X)`.\n",
    "            # Zastosowanie tej aktywacji w tym miejscu jest bardziej pojęciowe, np.  \n",
    "            # podczas korzystania z regresji logistycznej (o czym przekonamy się już wkrótce)\n",
    "            # możemy zastąpić tę funkcję funkcją sigmoidalną, dzięki czemu\n",
    "            # uzyskamy klasyfikator bazujący na regresji logistycznej.\n",
    "            output = self.activation(net_input)\n",
    "            errors = (y - output)\n",
    "            if i == 1:\n",
    "                print(output)\n",
    "            self.w_[1:] += self.eta * X.T.dot(errors)\n",
    "            self.w_[0] += self.eta * errors.sum()\n",
    "            cost = (errors**2).sum() / 2.0\n",
    "            self.cost_.append(cost)\n",
    "        return self\n",
    "\n",
    "    def net_input(self, X):\n",
    "        \"\"\"oblicza pobudzenie całkowite\"\"\"\n",
    "        return np.dot(X, self.w_[1:]) + self.w_[0]\n",
    "\n",
    "    def activation(self, X):\n",
    "        \"\"\"oblicza liniową funkcję aktywacji\"\"\"\n",
    "        return X\n",
    "\n",
    "    def predict(self, X):\n",
    "         \"\"\"zwraca etykietę klas po wykonaniu skoku jednostkowego\"\"\"\n",
    "         return np.where(self.activation(self.net_input(X)) >= 0.0, 1, -1)"
   ]
  },
  {
   "cell_type": "code",
   "execution_count": 24,
   "metadata": {},
   "outputs": [],
   "source": [
    "df = pd.read_csv('https://archive.ics.uci.edu/ml/'\n",
    "        'machine-learning-databases/iris/iris.data', header=None)\n",
    "y =  df.iloc[0:100,4].values\n",
    "y = np.where(y == 'Iris-setosa',-1,1)\n",
    "\n",
    "X = df.iloc[0:100,[0,2]].values"
   ]
  },
  {
   "cell_type": "code",
   "execution_count": 25,
   "metadata": {},
   "outputs": [],
   "source": [
    "def plot_decision_regions(X, y, classifier, resolution=0.02):\n",
    "\n",
    "    # konfiguruje generator znaczników i mapę kolorów\n",
    "    markers = ('s', 'x', 'o', '^', 'v')\n",
    "    colors = ('red', 'blue', 'lightgreen', 'gray', 'cyan')\n",
    "    cmap = ListedColormap(colors[:len(np.unique(y))])\n",
    "\n",
    "    # rysuje wykres powierzchni decyzyjnej\n",
    "    x1_min, x1_max = X[:, 0].min() - 1, X[:, 0].max() + 1\n",
    "    x2_min, x2_max = X[:, 1].min() - 1, X[:, 1].max() + 1\n",
    "    xx1, xx2 = np.meshgrid(np.arange(x1_min, x1_max, resolution),\n",
    "                           np.arange(x2_min, x2_max, resolution))\n",
    "    Z = classifier.predict(np.array([xx1.ravel(), xx2.ravel()]).T)\n",
    "    Z = Z.reshape(xx1.shape)\n",
    "    plt.contourf(xx1, xx2, Z, alpha=0.3, cmap=cmap)\n",
    "    plt.xlim(xx1.min(), xx1.max())\n",
    "    plt.ylim(xx2.min(), xx2.max())\n",
    "\n",
    "    # rysuje wykres próbek\n",
    "    for idx, cl in enumerate(np.unique(y)):\n",
    "        plt.scatter(x=X[y == cl, 0], \n",
    "                    y=X[y == cl, 1],\n",
    "                    alpha=0.8, \n",
    "                    c=colors[idx],\n",
    "                    marker=markers[idx], \n",
    "                    label=cl, \n",
    "                    edgecolor='black')"
   ]
  },
  {
   "cell_type": "code",
   "execution_count": 26,
   "metadata": {},
   "outputs": [
    {
     "name": "stdout",
     "output_type": "stream",
     "text": [
      "[-1.41460238 -1.6440783  -1.94119611 -1.92065027 -1.52934034 -0.86746282\n",
      " -1.98829216 -1.46169844 -2.21776808 -1.5764364  -1.00274662 -1.62353245\n",
      " -1.75881625 -2.53543173 -0.74672049 -0.65853275 -1.13803042 -1.41460238\n",
      " -0.52324895 -1.34696048 -0.86746282 -1.34696048 -2.25885976 -1.21167669\n",
      " -1.42060676 -1.39405654 -1.39405654 -1.23222253 -1.29986443 -1.73827041\n",
      " -1.62353245 -1.00274662 -1.23222253 -0.95565056 -1.5764364  -1.66462414\n",
      " -1.02329246 -1.5764364  -2.28540998 -1.34696048 -1.59698224 -2.17067202\n",
      " -2.28540998 -1.39405654 -1.07639289 -1.75881625 -1.27931859 -1.98829216\n",
      " -1.11748457 -1.52934034  2.99760146  2.17388992  3.0181473   0.80303882\n",
      "  2.35626978  1.37072423  2.19443576 -0.35888221  2.47100773  0.39118305\n",
      " -0.10886046  1.39727444  1.3767286   1.96495985  0.64720918  2.45046189\n",
      "  1.25598627  1.21489459  1.94441401  0.85013488  1.80312584  1.49146656\n",
      "  2.32971956  1.96495985  2.03860612  2.33572393  2.83576744  2.85631329\n",
      "  1.7149381   0.69430524  0.66775502  0.60011312  1.07961079  2.12078949\n",
      "  1.02651036  1.7149381   2.65338759  1.99151007  0.98541868  0.80303882\n",
      "  1.07360642  1.89731795  1.14725269 -0.24414425  1.05306058  1.16779853\n",
      "  1.16779853  1.80913021 -0.332332    1.10015663]\n"
     ]
    },
    {
     "name": "stderr",
     "output_type": "stream",
     "text": [
      "C:\\Users\\Adam\\AppData\\Local\\Temp\\ipykernel_13668\\431424220.py:21: UserWarning: You passed a edgecolor/edgecolors ('black') for an unfilled marker ('x').  Matplotlib is ignoring the edgecolor in favor of the facecolor.  This behavior may change in the future.\n",
      "  plt.scatter(x=X[y == cl, 0],\n"
     ]
    },
    {
     "data": {
      "image/png": "[encoded data removed]",
      "text/plain": [
       "<Figure size 432x288 with 1 Axes>"
      ]
     },
     "metadata": {
      "needs_background": "light"
     },
     "output_type": "display_data"
    },
    {
     "data": {
      "image/png": "[encoded data removed]",
      "text/plain": [
       "<Figure size 432x288 with 1 Axes>"
      ]
     },
     "metadata": {
      "needs_background": "light"
     },
     "output_type": "display_data"
    }
   ],
   "source": [
    "X_std = np.copy(X)\n",
    "X_std[:, 0] = (X[:, 0] - X[:, 0].mean()) / X[:, 0].std()\n",
    "X_std[:, 1] = (X[:, 1] - X[:, 1].mean()) / X[:, 1].std()\n",
    "ada = AdalineGD(n_iter=50, eta=0.01)\n",
    "ada.fit(X_std, y)\n",
    "\n",
    "plot_decision_regions(X_std, y, classifier=ada)\n",
    "plt.title('Adaline - Gradient prosty')\n",
    "plt.xlabel('Długość działki [standaryzowana]')\n",
    "plt.ylabel('Długość płatka [standaryzowana]')\n",
    "plt.legend(loc='upper left')\n",
    "plt.tight_layout()\n",
    "#plt.savefig('rysunki/02_14_1.png', dpi=300)\n",
    "plt.show()\n",
    "\n",
    "plt.plot(range(1, len(ada.cost_) + 1), ada.cost_, marker='o')\n",
    "plt.xlabel('Epoki')\n",
    "plt.ylabel('Suma kwadratów błędów')\n",
    "\n",
    "plt.tight_layout()\n",
    "#plt.savefig('rysunki/02_14_2.png', dpi=300)\n",
    "plt.show()"
   ]
  }
 ],
 "metadata": {
  "interpreter": {
   "hash": "a79c28dc4fba081f689b859346d0efc72072b5bce83ebeb23a4a221f82859ba7"
  },
  "kernelspec": {
   "display_name": "Python 3.10.4 64-bit",
   "language": "python",
   "name": "python3"
  },
  "language_info": {
   "codemirror_mode": {
    "name": "ipython",
    "version": 3
   },
   "file_extension": ".py",
   "mimetype": "text/x-python",
   "name": "python",
   "nbconvert_exporter": "python",
   "pygments_lexer": "ipython3",
   "version": "3.10.4"
  },
  "orig_nbformat": 4
 },
 "nbformat": 4,
 "nbformat_minor": 2
}
